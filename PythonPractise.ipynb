{
 "cells": [
  {
   "cell_type": "code",
   "execution_count": 1,
   "metadata": {},
   "outputs": [
    {
     "name": "stdout",
     "output_type": "stream",
     "text": [
      "Hello\n"
     ]
    }
   ],
   "source": [
    "print(\"Hello\")"
   ]
  },
  {
   "cell_type": "code",
   "execution_count": 1,
   "metadata": {},
   "outputs": [
    {
     "name": "stdout",
     "output_type": "stream",
     "text": [
      "24\n"
     ]
    }
   ],
   "source": [
    "# Factorial of a number\n",
    "fact = 1\n",
    "num = int(input())\n",
    "\n",
    "if num < 1:\n",
    "    print(1)\n",
    "else:\n",
    "    for i in range (1, num + 1):\n",
    "        fact = fact * i\n",
    "    print(fact)"
   ]
  },
  {
   "cell_type": "code",
   "execution_count": 4,
   "metadata": {},
   "outputs": [
    {
     "name": "stdout",
     "output_type": "stream",
     "text": [
      "120\n"
     ]
    }
   ],
   "source": [
    "# factorial of a number - 2\n",
    "def factorial(number):\n",
    "    if number == 1:\n",
    "        return 1\n",
    "    else:\n",
    "        return number * factorial(number - 1)\n",
    "number = int(input())\n",
    "print(factorial(number))"
   ]
  },
  {
   "cell_type": "code",
   "execution_count": 6,
   "metadata": {},
   "outputs": [
    {
     "name": "stdout",
     "output_type": "stream",
     "text": [
      "False\n"
     ]
    }
   ],
   "source": [
    "# Armstrong number \n",
    "def armstrong(num):\n",
    "    order = len(str(num))\n",
    "    \n",
    "    sum = 0\n",
    "    temp = num\n",
    "    while temp > 0:\n",
    "        digits = temp % 10\n",
    "        sum = sum + digits ** order\n",
    "        temp //= 10\n",
    "    \n",
    "    if num == sum:\n",
    "        return True\n",
    "    else:\n",
    "        return False\n",
    "num = int(input())\n",
    "print(armstrong(num))"
   ]
  },
  {
   "cell_type": "code",
   "execution_count": 15,
   "metadata": {},
   "outputs": [
    {
     "name": "stdout",
     "output_type": "stream",
     "text": [
      "[2, 3, 5, 7]\n"
     ]
    }
   ],
   "source": [
    "# Prime numbers between intervals\n",
    "def primeIntervals(start, end):\n",
    "    primes = []\n",
    "    \n",
    "    for num in range(start, end+1):\n",
    "        if num > 1:\n",
    "            for i in range(2, int(num/2)+1):\n",
    "                if num % i == 0:\n",
    "                    break\n",
    "            else:\n",
    "                    primes.append(num)\n",
    "    return primes\n",
    "start = int(input())\n",
    "end = int(input())\n",
    "print(primeIntervals(start, end))"
   ]
  }
 ],
 "metadata": {
  "kernelspec": {
   "display_name": "Python 3",
   "language": "python",
   "name": "python3"
  },
  "language_info": {
   "codemirror_mode": {
    "name": "ipython",
    "version": 3
   },
   "file_extension": ".py",
   "mimetype": "text/x-python",
   "name": "python",
   "nbconvert_exporter": "python",
   "pygments_lexer": "ipython3",
   "version": "3.10.10"
  },
  "orig_nbformat": 4
 },
 "nbformat": 4,
 "nbformat_minor": 2
}
