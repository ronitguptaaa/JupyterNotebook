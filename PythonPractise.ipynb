{
 "cells": [
  {
   "cell_type": "code",
   "execution_count": 1,
   "metadata": {},
   "outputs": [
    {
     "name": "stdout",
     "output_type": "stream",
     "text": [
      "Hello\n"
     ]
    }
   ],
   "source": [
    "print(\"Hello\")\n"
   ]
  },
  {
   "cell_type": "code",
   "execution_count": 1,
   "metadata": {},
   "outputs": [
    {
     "name": "stdout",
     "output_type": "stream",
     "text": [
      "24\n"
     ]
    }
   ],
   "source": [
    "# Factorial of a number\n",
    "fact = 1\n",
    "num = int(input())\n",
    "\n",
    "if num < 1:\n",
    "    print(1)\n",
    "else:\n",
    "    for i in range (1, num + 1):\n",
    "        fact = fact * i\n",
    "    print(fact)"
   ]
  },
  {
   "cell_type": "code",
   "execution_count": 4,
   "metadata": {},
   "outputs": [
    {
     "name": "stdout",
     "output_type": "stream",
     "text": [
      "120\n"
     ]
    }
   ],
   "source": [
    "# factorial of a number - 2\n",
    "def factorial(number):\n",
    "    if number == 1:\n",
    "        return 1\n",
    "    else:\n",
    "        return number * factorial(number - 1)\n",
    "number = int(input())\n",
    "print(factorial(number))"
   ]
  },
  {
   "cell_type": "code",
   "execution_count": 6,
   "metadata": {},
   "outputs": [
    {
     "name": "stdout",
     "output_type": "stream",
     "text": [
      "False\n"
     ]
    }
   ],
   "source": [
    "# Armstrong number \n",
    "def armstrong(num):\n",
    "    order = len(str(num))\n",
    "    \n",
    "    sum = 0\n",
    "    temp = num\n",
    "    while temp > 0:\n",
    "        digits = temp % 10\n",
    "        sum = sum + digits ** order\n",
    "        temp //= 10\n",
    "    \n",
    "    if num == sum:\n",
    "        return True\n",
    "    else:\n",
    "        return False\n",
    "num = int(input())\n",
    "print(armstrong(num))"
   ]
  },
  {
   "cell_type": "code",
   "execution_count": 18,
   "metadata": {},
   "outputs": [
    {
     "name": "stdout",
     "output_type": "stream",
     "text": [
      "[2, 3, 5, 7]\n"
     ]
    }
   ],
   "source": [
    "# Prime numbers between intervals\n",
    "def primeIntervals(start, end):\n",
    "    primes = []\n",
    "    \n",
    "    for num in range(start, end+1):\n",
    "        if num > 1:\n",
    "            for i in range(2, int(num/2)+1):\n",
    "                if num % i == 0:\n",
    "                    break\n",
    "            else:\n",
    "                primes.append(num)\n",
    "    return primes\n",
    "start = int(input())\n",
    "end = int(input())\n",
    "print(primeIntervals(start, end))"
   ]
  },
  {
   "cell_type": "code",
   "execution_count": 20,
   "metadata": {},
   "outputs": [
    {
     "name": "stdout",
     "output_type": "stream",
     "text": [
      "False\n"
     ]
    }
   ],
   "source": [
    "# Prime number check\n",
    "def isPrime(number):\n",
    "    if number < 2:\n",
    "        return False\n",
    "    else:\n",
    "        for i in range(2, int(number ** 0.5) + 1):\n",
    "            if number % i == 0:\n",
    "                return False\n",
    "            else:\n",
    "                return True\n",
    "number = int(input())\n",
    "print(isPrime(number))"
   ]
  },
  {
   "cell_type": "code",
   "execution_count": 22,
   "metadata": {},
   "outputs": [
    {
     "name": "stdout",
     "output_type": "stream",
     "text": [
      "1\n"
     ]
    }
   ],
   "source": [
    "# Nth - Fibonacci Number \n",
    "def fibonacci(number):\n",
    "    if number < 1:\n",
    "        return \n",
    "    else:\n",
    "        firstNum = 1\n",
    "        secondNum = 0\n",
    "        for i in range(2, number):\n",
    "            thirdNum = firstNum + secondNum\n",
    "            firstNum = secondNum\n",
    "            secondNum = thirdNum\n",
    "        return secondNum\n",
    "number = int(input())\n",
    "print(fibonacci(number))      "
   ]
  },
  {
   "cell_type": "code",
   "execution_count": 23,
   "metadata": {},
   "outputs": [
    {
     "name": "stdout",
     "output_type": "stream",
     "text": [
      "[0, 1, 1, 2, 3]\n"
     ]
    }
   ],
   "source": [
    "# List of Fibonacci Numbers\n",
    "def fibonacci(num):\n",
    "    if num < 0:\n",
    "        return []\n",
    "    elif num == 1:\n",
    "        return [0]\n",
    "    elif num == 2:\n",
    "        return [0, 1]\n",
    "    else:\n",
    "        fib = [0, 1]\n",
    "        for i in range(2, num):\n",
    "            fib.append(fib[i-1]+fib[i-2])\n",
    "        return fib\n",
    "num = int(input())\n",
    "print(fibonacci(num))"
   ]
  },
  {
   "cell_type": "code",
   "execution_count": 35,
   "metadata": {},
   "outputs": [
    {
     "name": "stdout",
     "output_type": "stream",
     "text": [
      "False\n"
     ]
    }
   ],
   "source": [
    "# Is a number Fibonacci?\n",
    "import math\n",
    "\n",
    "def isFibonacci(number):\n",
    "    if number <=0:\n",
    "        return False\n",
    "    a = 5 * (number ** 2) + 4\n",
    "    b = 5 * (number ** 2) - 4\n",
    "    if int(math.sqrt(a))**2 == a or int(math.sqrt(b))**2 == b:\n",
    "        return True\n",
    "    else:\n",
    "        return False\n",
    "x = int(input())\n",
    "print(isFibonacci(x))    "
   ]
  },
  {
   "cell_type": "code",
   "execution_count": 49,
   "metadata": {},
   "outputs": [
    {
     "name": "stdout",
     "output_type": "stream",
     "text": [
      "4\n"
     ]
    }
   ],
   "source": [
    "# Sum of Array\n",
    "def sumArray(arr):\n",
    "    sum = 0\n",
    "    for i in range(len(arr)):\n",
    "        sum = sum + arr[i]\n",
    "    return sum\n",
    "\n",
    "num = int(input())\n",
    "arr = []\n",
    "for i in range(num):\n",
    "    elem = int(input(str(i)))\n",
    "    arr.append(elem)\n",
    "print(sumArray(arr))"
   ]
  },
  {
   "cell_type": "code",
   "execution_count": 55,
   "metadata": {},
   "outputs": [
    {
     "name": "stdout",
     "output_type": "stream",
     "text": [
      "5\n"
     ]
    }
   ],
   "source": [
    "# Largest in Array\n",
    "def largestInArray(arr, n):\n",
    "    max = arr[0]\n",
    "    \n",
    "    for i in range(1, n):\n",
    "        if arr[i] > max:\n",
    "            max = arr[i]\n",
    "    return max\n",
    "\n",
    "n = int(input())\n",
    "arr = []\n",
    "for i in range(n):\n",
    "    elem = int(input())\n",
    "    arr.append(elem)\n",
    "print(largestInArray(arr, n))"
   ]
  },
  {
   "cell_type": "code",
   "execution_count": 54,
   "metadata": {},
   "outputs": [
    {
     "name": "stdout",
     "output_type": "stream",
     "text": [
      "[1, 2, 3, 4, 5, 6]\n",
      "[3, 4, 5, 6, 1, 2]\n"
     ]
    }
   ],
   "source": [
    "# Left rotate the Array\n",
    "def leftRotate(arr, d):\n",
    "    arr[:d] = arr[:d][::-1]\n",
    "    arr[d:] = arr[d:][::-1]\n",
    "    arr[:] = arr[::-1]\n",
    "    return arr\n",
    "\n",
    "d = int(input())\n",
    "n = int(input())\n",
    "arr = []\n",
    "for i in range(n):\n",
    "    elem = int(input())\n",
    "    arr.append(elem)\n",
    "print(arr)\n",
    "print(leftRotate(arr, d))"
   ]
  },
  {
   "cell_type": "code",
   "execution_count": 59,
   "metadata": {},
   "outputs": [
    {
     "name": "stdout",
     "output_type": "stream",
     "text": [
      "[3, 4, 5, 1, 2]\n"
     ]
    }
   ],
   "source": [
    "# Reversal algorithm\n",
    "def reverseArray(arr, start, end):\n",
    "    while start < end:\n",
    "        arr[start], arr[end] = arr[end], arr[start]\n",
    "        start+=1\n",
    "        end-=1\n",
    "def leftRotate(arr, d):\n",
    "    n = len(arr)\n",
    "    reverseArray(arr, 0, d-1)\n",
    "    reverseArray(arr, d, n-1)\n",
    "    reverseArray(arr, 0, n-1)\n",
    "    return arr\n",
    "\n",
    "d = int(input())\n",
    "n = int(input())\n",
    "arr = []\n",
    "for i in range(n):\n",
    "    elem = int(input())\n",
    "    arr.append(elem)\n",
    "\n",
    "print(leftRotate(arr, d))"
   ]
  },
  {
   "cell_type": "code",
   "execution_count": 61,
   "metadata": {},
   "outputs": [
    {
     "name": "stdout",
     "output_type": "stream",
     "text": [
      "True\n"
     ]
    }
   ],
   "source": [
    "# Monotonic Array\n",
    "def isMonotonic(arr):\n",
    "    brr, crr = [], []\n",
    "    brr.extend(arr)\n",
    "    crr.extend(arr)\n",
    "    brr.sort()\n",
    "    crr.sort(reverse=True)\n",
    "    \n",
    "    if brr == arr or crr == arr:\n",
    "        return True\n",
    "    else:\n",
    "        return False\n",
    "\n",
    "n = int(input())\n",
    "arr = []\n",
    "for i in range(n):\n",
    "    elem = int(input())\n",
    "    arr.append(elem)\n",
    "print(isMonotonic(arr))"
   ]
  }
 ],
 "metadata": {
  "kernelspec": {
   "display_name": "Python 3",
   "language": "python",
   "name": "python3"
  },
  "language_info": {
   "codemirror_mode": {
    "name": "ipython",
    "version": 3
   },
   "file_extension": ".py",
   "mimetype": "text/x-python",
   "name": "python",
   "nbconvert_exporter": "python",
   "pygments_lexer": "ipython3",
   "version": "3.10.10"
  },
  "orig_nbformat": 4
 },
 "nbformat": 4,
 "nbformat_minor": 2
}
